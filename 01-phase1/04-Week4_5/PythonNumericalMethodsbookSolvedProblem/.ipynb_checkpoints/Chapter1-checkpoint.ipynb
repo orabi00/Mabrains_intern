{
 "cells": [
  {
   "cell_type": "markdown",
   "id": "cce2a7b5",
   "metadata": {},
   "source": [
    "### 5. Compute the area of a triangle with base 10 and height 12. Recall that the area of a triangle is half the base times the height."
   ]
  },
  {
   "cell_type": "code",
   "execution_count": 1,
   "id": "adff737a",
   "metadata": {},
   "outputs": [
    {
     "name": "stdout",
     "output_type": "stream",
     "text": [
      "The area of the triangle with base 10 and height 12 = 60.0\n"
     ]
    }
   ],
   "source": [
    "#Assign the variables\n",
    "base   = 10\n",
    "height = 12\n",
    "\n",
    "#Area calculation\n",
    "triangle_area = 0.5 * base * height \n",
    "\n",
    "#Print the result\n",
    "print(f'The area of the triangle with base {base} and height {height} = {triangle_area}')"
   ]
  },
  {
   "cell_type": "markdown",
   "id": "c2ceeeaf",
   "metadata": {},
   "source": [
    "### 6. Compute the surface area and volume of a cylinder with radius 5 and height 3."
   ]
  },
  {
   "cell_type": "code",
   "execution_count": 2,
   "id": "0f091a3b",
   "metadata": {},
   "outputs": [
    {
     "name": "stdout",
     "output_type": "stream",
     "text": [
      "The area of the cylinder with radius 5 and height 3 = 94.24777960769379\n",
      "The volume of the cylinder with radius 5 and height 3 = 235.61944901923448\n"
     ]
    }
   ],
   "source": [
    "import numpy as np\n",
    "\n",
    "#Assign the variables\n",
    "radius   = 5\n",
    "height   = 3\n",
    "\n",
    "#Area calculation\n",
    "cylinder_area    = 2 * np.pi * radius * height\n",
    "cylinder_volume  = np.pi * np.square(radius) * height\n",
    "\n",
    "#Print the result\n",
    "print(f'The area of the cylinder with radius {radius} and height {height} = {cylinder_area}')\n",
    "print(f'The volume of the cylinder with radius {radius} and height {height} = {cylinder_volume}')"
   ]
  },
  {
   "cell_type": "markdown",
   "id": "ed4f6b13",
   "metadata": {},
   "source": [
    "### 7. Compute the slope between the points $(3,4)$ and $(5,9)$. Recall that the slope between points $(x_1,y_1)$ and $(x_2, y_2)$ is $\\frac{y_2 - y_1}{x_2 - x_1}$."
   ]
  },
  {
   "cell_type": "code",
   "execution_count": 3,
   "id": "e1e0913e",
   "metadata": {},
   "outputs": [
    {
     "name": "stdout",
     "output_type": "stream",
     "text": [
      "the slope between the points (3,4) and (5,9) = 2.5\n"
     ]
    }
   ],
   "source": [
    "#Assign the variables\n",
    "x1   = 3\n",
    "y1   = 4\n",
    "x2   = 5\n",
    "y2   = 9\n",
    "\n",
    "#Computing the slope\n",
    "slope = (y2 - y1)/(x2 - x1)\n",
    "\n",
    "#Print the result\n",
    "print(f'the slope between the points ({x1},{y1}) and ({x2},{y2}) = {slope}')"
   ]
  },
  {
   "cell_type": "markdown",
   "id": "2574189f",
   "metadata": {},
   "source": [
    "### 8. Compute the distance between the points $(3,4)$ and $(5,9)$. Recall that the distance between points in two dimensions is $\\sqrt{(x_2 - x_1)^2 + (y_2 - y_1)^2}$."
   ]
  },
  {
   "cell_type": "code",
   "execution_count": 4,
   "id": "dbe255b7",
   "metadata": {},
   "outputs": [
    {
     "name": "stdout",
     "output_type": "stream",
     "text": [
      "the distance between the points (3,4) and (5,9) = 5.385164807134504\n"
     ]
    }
   ],
   "source": [
    "import numpy as np\n",
    "\n",
    "#Assign the variables\n",
    "x1   = 3\n",
    "y1   = 4\n",
    "x2   = 5\n",
    "y2   = 9\n",
    "\n",
    "#Computing the distance\n",
    "distance = np.sqrt(np.square(x2 - x1) + np.square(y2 - y1))\n",
    "\n",
    "#Print the result\n",
    "print(f'the distance between the points ({x1},{y1}) and ({x2},{y2}) = {distance}')"
   ]
  },
  {
   "cell_type": "markdown",
   "id": "1333811f",
   "metadata": {},
   "source": [
    "### 9. Use Python's *factorial* function to compute $6!$"
   ]
  },
  {
   "cell_type": "code",
   "execution_count": 6,
   "id": "2aa903c0",
   "metadata": {},
   "outputs": [
    {
     "name": "stdout",
     "output_type": "stream",
     "text": [
      "The factorial of 6 is : 720\n"
     ]
    }
   ],
   "source": [
    "import math\n",
    "  \n",
    "number = 6\n",
    "\n",
    "# Calculating the factorial\n",
    "print (f'The factorial of {number} is : {math.factorial(number)}')"
   ]
  },
  {
   "cell_type": "markdown",
   "id": "033ce840",
   "metadata": {},
   "source": [
    "### 11. A very powerful approximation for $\\pi$ was developed by a brilliant mathematician named Srinivasa Ramanujan. The approximation is the following:<br> $\\frac{1}{\\pi} \\approx \\frac{2\\sqrt{2}}{9801} \\sum_{k=0}^{N} \\frac{(4k)!(1103 + 26390k)}{(k!)^4 396^{4k}}$.<br>Use Ramanujan's formula for $N = 0$ and $N = 1$ to approximate $\\pi$. Be sure to use format long. Compare your approximation with Python's stored value for *pi*. Hint: $0! = 1$ by definition.\n"
   ]
  },
  {
   "cell_type": "code",
   "execution_count": 8,
   "id": "650de7ca",
   "metadata": {},
   "outputs": [
    {
     "name": "stdout",
     "output_type": "stream",
     "text": [
      "The approximation is 3.1415926535897936\n",
      "Python's stored value for pi is 3.141592653589793\n"
     ]
    }
   ],
   "source": [
    "import math\n",
    "import numpy as np\n",
    "\n",
    "cons = (2 * np.sqrt(2)) / 9801\n",
    "\n",
    "# When k = 0\n",
    "k = 0\n",
    "p = math.factorial(4 * k) * (1103 + 26390 * k)\n",
    "m = np.power(math.factorial(k),4) * np.power(396, 4 * k)\n",
    "pi1 = p / m\n",
    "\n",
    "# When k = 1\n",
    "k = 1\n",
    "p = math.factorial(4 * k) * (1103 + 26390 * k)\n",
    "m = np.power(math.factorial(k),4) * np.power(396, 4 * k)\n",
    "pi2 = p / m\n",
    "\n",
    "# Calculating the value of pi\n",
    "pi = cons * (pi1 + pi2)\n",
    "\n",
    "#Comparing the approximation with Python's stored value for pi\n",
    "print (f'The approximation is {1/pi}\\nPython\\'s stored value for pi is {np.pi}')"
   ]
  },
  {
   "cell_type": "markdown",
   "id": "8eb6f894",
   "metadata": {},
   "source": [
    "### 12. The hyperbolic $sin$ or $sinh$ is defined in terms of exponentials as $sinh(x) = \\frac{\\exp(x) - \\exp(-x)}{2}$.<br>Compute $sinh$ for $x = 2$ using exponentials. Verify that the result is indeed the hyperbolic $sin$ using Python's function *sinh* in the math module. \n"
   ]
  },
  {
   "cell_type": "code",
   "execution_count": 9,
   "id": "a47439cf",
   "metadata": {},
   "outputs": [
    {
     "name": "stdout",
     "output_type": "stream",
     "text": [
      "The approximation is 3.626860407847019\n",
      "Python's stored value for pi is 3.626860407847019\n"
     ]
    }
   ],
   "source": [
    "import math\n",
    "import numpy as np\n",
    "\n",
    "x = 2\n",
    "\n",
    "# Calculating the value of sinhx\n",
    "sinhx = (math.exp(x) - math.exp(-1 *x)) / 2\n",
    "\n",
    "#Comparing the approximation with Python's stored value for sinhx\n",
    "print (f'The approximation is {sinhx}\\nPython\\'s stored value for pi is {math.sinh(x)}')"
   ]
  },
  {
   "cell_type": "markdown",
   "id": "ad9c0904",
   "metadata": {},
   "source": [
    "### 13. Verify that $\\sin^2(x) + \\cos^2(x) = 1$ for $x = \\pi, \\frac{\\pi}{2}, \\frac{\\pi}{4}, \\frac{\\pi}{6}$.\n"
   ]
  },
  {
   "cell_type": "code",
   "execution_count": 10,
   "id": "3809c103",
   "metadata": {},
   "outputs": [
    {
     "name": "stdout",
     "output_type": "stream",
     "text": [
      "sin(𝑥)^2+cos(𝑥)^2 when x = pi is 1.0\n",
      "sin(𝑥)^2+cos(𝑥)^2 when x = pi is 1.0\n",
      "sin(𝑥)^2+cos(𝑥)^2 when x = pi is 1.0\n",
      "sin(𝑥)^2+cos(𝑥)^2 when x = pi is 1.0\n"
     ]
    }
   ],
   "source": [
    "import math\n",
    "import numpy as np\n",
    "\n",
    "# When x = pi\n",
    "print(f'sin(𝑥)^2+cos(𝑥)^2 when x = pi is {np.square(math.sin(np.pi)) + np.square(math.cos(np.pi))}')\n",
    "\n",
    "# When x = pi/2\n",
    "print(f'sin(𝑥)^2+cos(𝑥)^2 when x = pi is {np.square(math.sin(np.pi/2)) + np.square(math.cos(np.pi/2))}')\n",
    "\n",
    "# When x = pi/4\n",
    "print(f'sin(𝑥)^2+cos(𝑥)^2 when x = pi is {np.square(math.sin(np.pi/4)) + np.square(math.cos(np.pi/4))}')\n",
    "\n",
    "# When x = pi/6\n",
    "print(f'sin(𝑥)^2+cos(𝑥)^2 when x = pi is {np.square(math.sin(np.pi/6)) + np.square(math.cos(np.pi/6))}')"
   ]
  },
  {
   "cell_type": "markdown",
   "id": "b37312b7",
   "metadata": {},
   "source": [
    "### 14. Compute the $\\sin87$&deg;."
   ]
  },
  {
   "cell_type": "code",
   "execution_count": 11,
   "id": "e77fc994",
   "metadata": {},
   "outputs": [
    {
     "name": "stdout",
     "output_type": "stream",
     "text": [
      "sin87° is 0.9986295347545738\n"
     ]
    }
   ],
   "source": [
    "import math\n",
    "import numpy as np\n",
    "\n",
    "# Calculating sin87°\n",
    "\n",
    "print(f'sin87° is {math.sin(87 * (np.pi / 180))}')\n"
   ]
  },
  {
   "cell_type": "markdown",
   "id": "9045766c",
   "metadata": {},
   "source": [
    "### 15. Write a Python statement that generates the following error:<br>\"AttributeError: module 'math' has no attribute 'sni'\"<br>Hint: sni is a misspelling of the function *sin*."
   ]
  },
  {
   "cell_type": "code",
   "execution_count": 12,
   "id": "a1241b95",
   "metadata": {},
   "outputs": [
    {
     "ename": "AttributeError",
     "evalue": "module 'math' has no attribute 'sni'",
     "output_type": "error",
     "traceback": [
      "\u001b[0;31m---------------------------------------------------------------------------\u001b[0m",
      "\u001b[0;31mAttributeError\u001b[0m                            Traceback (most recent call last)",
      "\u001b[0;32m<ipython-input-12-e12e516b67eb>\u001b[0m in \u001b[0;36m<module>\u001b[0;34m\u001b[0m\n\u001b[1;32m      2\u001b[0m \u001b[0;34m\u001b[0m\u001b[0m\n\u001b[1;32m      3\u001b[0m \u001b[0;31m# misspelling of the function sin\u001b[0m\u001b[0;34m\u001b[0m\u001b[0;34m\u001b[0m\u001b[0;34m\u001b[0m\u001b[0m\n\u001b[0;32m----> 4\u001b[0;31m \u001b[0mmath\u001b[0m\u001b[0;34m.\u001b[0m\u001b[0msni\u001b[0m\u001b[0;34m(\u001b[0m\u001b[0;36m0\u001b[0m\u001b[0;34m)\u001b[0m\u001b[0;34m\u001b[0m\u001b[0;34m\u001b[0m\u001b[0m\n\u001b[0m",
      "\u001b[0;31mAttributeError\u001b[0m: module 'math' has no attribute 'sni'"
     ]
    }
   ],
   "source": [
    "import math\n",
    "\n",
    "# misspelling of the function sin\n",
    "math.sni(0)"
   ]
  },
  {
   "cell_type": "markdown",
   "id": "9bc8589c",
   "metadata": {},
   "source": [
    "### 16. Write a Python statement that generates the following error:<br>\"TypeError: sin() takes exactly one argument (0 given)\"<br>Hint: Input arguments refers to the input of a function (any function); for example, the input in $sin(pi/2)$ is $pi/2$.\n"
   ]
  },
  {
   "cell_type": "code",
   "execution_count": 13,
   "id": "5b0ad362",
   "metadata": {},
   "outputs": [
    {
     "ename": "TypeError",
     "evalue": "sin() takes exactly one argument (0 given)",
     "output_type": "error",
     "traceback": [
      "\u001b[0;31m---------------------------------------------------------------------------\u001b[0m",
      "\u001b[0;31mTypeError\u001b[0m                                 Traceback (most recent call last)",
      "\u001b[0;32m<ipython-input-13-f48982aef66c>\u001b[0m in \u001b[0;36m<module>\u001b[0;34m\u001b[0m\n\u001b[1;32m      2\u001b[0m \u001b[0;34m\u001b[0m\u001b[0m\n\u001b[1;32m      3\u001b[0m \u001b[0;31m# The function sin with no arguments\u001b[0m\u001b[0;34m\u001b[0m\u001b[0;34m\u001b[0m\u001b[0;34m\u001b[0m\u001b[0m\n\u001b[0;32m----> 4\u001b[0;31m \u001b[0mmath\u001b[0m\u001b[0;34m.\u001b[0m\u001b[0msin\u001b[0m\u001b[0;34m(\u001b[0m\u001b[0;34m)\u001b[0m\u001b[0;34m\u001b[0m\u001b[0;34m\u001b[0m\u001b[0m\n\u001b[0m",
      "\u001b[0;31mTypeError\u001b[0m: sin() takes exactly one argument (0 given)"
     ]
    }
   ],
   "source": [
    "import math\n",
    "\n",
    "# The function sin with no arguments\n",
    "math.sin()"
   ]
  },
  {
   "cell_type": "markdown",
   "id": "beb736b2",
   "metadata": {},
   "source": [
    "### 17. If $P$ is a logical expression, the law of noncontradiction states that $P\\ AND\\ (NOT\\ P)$ is always false. Verify this for $P$ true and $P$ false."
   ]
  },
  {
   "cell_type": "code",
   "execution_count": 14,
   "id": "7b3f510a",
   "metadata": {},
   "outputs": [
    {
     "name": "stdout",
     "output_type": "stream",
     "text": [
      "𝑃 𝐴𝑁𝐷 (𝑁𝑂𝑇 𝑃) is always False\n",
      "𝑃 𝐴𝑁𝐷 (𝑁𝑂𝑇 𝑃) is always 0\n"
     ]
    }
   ],
   "source": [
    "# When p is true\n",
    "P = 1\n",
    "print (f'𝑃 𝐴𝑁𝐷 (𝑁𝑂𝑇 𝑃) is always {𝑃 and (not P)}')\n",
    "\n",
    "#whrn p is false\n",
    "P = 0\n",
    "print (f'𝑃 𝐴𝑁𝐷 (𝑁𝑂𝑇 𝑃) is always {𝑃 and (not P)}')"
   ]
  },
  {
   "cell_type": "markdown",
   "id": "b50c16a5",
   "metadata": {},
   "source": [
    "### 18. Let P and Q be logical expressions. De Morgan's rule states that $NOT\\ (P\\ OR\\ Q)\\ =\\ (NOT\\ P)\\ AND\\\n",
    "(NOT\\ Q)$ and $NOT\\ (P\\ AND\\ Q)\\ =\\ (NOT\\ P)\\ OR\\ (NOT\\ Q)$. Generate the truth tables for each statement to show that De Morgan's rule is always true."
   ]
  },
  {
   "cell_type": "code",
   "execution_count": 15,
   "id": "9cf6297a",
   "metadata": {},
   "outputs": [
    {
     "name": "stdout",
     "output_type": "stream",
     "text": [
      "When P is true and Q is true\n",
      "𝑁𝑂𝑇 (𝑃 𝑂𝑅 𝑄) = (𝑁𝑂𝑇 𝑃) 𝐴𝑁𝐷 (𝑁𝑂𝑇 𝑄) is True\n",
      "𝑁𝑂𝑇 (𝑃 𝐴𝑁𝐷 𝑄) = (𝑁𝑂𝑇 𝑃) 𝑂𝑅 (𝑁𝑂𝑇 𝑄) is True\n",
      "\n",
      "When P is true and Q is false\n",
      "𝑁𝑂𝑇 (𝑃 𝑂𝑅 𝑄) = (𝑁𝑂𝑇 𝑃) 𝐴𝑁𝐷 (𝑁𝑂𝑇 𝑄) is True\n",
      "𝑁𝑂𝑇 (𝑃 𝐴𝑁𝐷 𝑄) = (𝑁𝑂𝑇 𝑃) 𝑂𝑅 (𝑁𝑂𝑇 𝑄) is True\n",
      "\n",
      "When P is false and Q is true\n",
      "𝑁𝑂𝑇 (𝑃 𝑂𝑅 𝑄) = (𝑁𝑂𝑇 𝑃) 𝐴𝑁𝐷 (𝑁𝑂𝑇 𝑄) is True\n",
      "𝑁𝑂𝑇 (𝑃 𝐴𝑁𝐷 𝑄) = (𝑁𝑂𝑇 𝑃) 𝑂𝑅 (𝑁𝑂𝑇 𝑄) is True\n",
      "\n",
      "When P is fasle and Q is fasle\n",
      "𝑁𝑂𝑇 (𝑃 𝑂𝑅 𝑄) = (𝑁𝑂𝑇 𝑃) 𝐴𝑁𝐷 (𝑁𝑂𝑇 𝑄) is True\n",
      "𝑁𝑂𝑇 (𝑃 𝐴𝑁𝐷 𝑄) = (𝑁𝑂𝑇 𝑃) 𝑂𝑅 (𝑁𝑂𝑇 𝑄) is True\n"
     ]
    }
   ],
   "source": [
    "# When P is true and Q is true\n",
    "print(\"When P is true and Q is true\")\n",
    "P = 1\n",
    "Q = 1\n",
    "print (f'𝑁𝑂𝑇 (𝑃 𝑂𝑅 𝑄) = (𝑁𝑂𝑇 𝑃) 𝐴𝑁𝐷 (𝑁𝑂𝑇 𝑄) is {(not (𝑃 or 𝑄)) == ((not 𝑃) and (not 𝑄))}')\n",
    "print (f'𝑁𝑂𝑇 (𝑃 𝐴𝑁𝐷 𝑄) = (𝑁𝑂𝑇 𝑃) 𝑂𝑅 (𝑁𝑂𝑇 𝑄) is {(not (𝑃 and 𝑄)) == ((not 𝑃) or (not 𝑄))}\\n')\n",
    "\n",
    "# When P is true and Q is false\n",
    "print(\"When P is true and Q is false\")\n",
    "P = 1\n",
    "Q = 0\n",
    "print (f'𝑁𝑂𝑇 (𝑃 𝑂𝑅 𝑄) = (𝑁𝑂𝑇 𝑃) 𝐴𝑁𝐷 (𝑁𝑂𝑇 𝑄) is {(not (𝑃 or 𝑄)) == ((not 𝑃) and (not 𝑄))}')\n",
    "print (f'𝑁𝑂𝑇 (𝑃 𝐴𝑁𝐷 𝑄) = (𝑁𝑂𝑇 𝑃) 𝑂𝑅 (𝑁𝑂𝑇 𝑄) is {(not (𝑃 and 𝑄)) == ((not 𝑃) or (not 𝑄))}\\n')\n",
    "\n",
    "# When P is fasle and Q is true\n",
    "print(\"When P is false and Q is true\")\n",
    "P = 0\n",
    "Q = 1\n",
    "print (f'𝑁𝑂𝑇 (𝑃 𝑂𝑅 𝑄) = (𝑁𝑂𝑇 𝑃) 𝐴𝑁𝐷 (𝑁𝑂𝑇 𝑄) is {(not (𝑃 or 𝑄)) == ((not 𝑃) and (not 𝑄))}')\n",
    "print (f'𝑁𝑂𝑇 (𝑃 𝐴𝑁𝐷 𝑄) = (𝑁𝑂𝑇 𝑃) 𝑂𝑅 (𝑁𝑂𝑇 𝑄) is {(not (𝑃 and 𝑄)) == ((not 𝑃) or (not 𝑄))}\\n')\n",
    "\n",
    "# When P is fasle and Q is fasle\n",
    "print(\"When P is fasle and Q is fasle\")\n",
    "P = 0\n",
    "Q = 0\n",
    "print (f'𝑁𝑂𝑇 (𝑃 𝑂𝑅 𝑄) = (𝑁𝑂𝑇 𝑃) 𝐴𝑁𝐷 (𝑁𝑂𝑇 𝑄) is {(not (𝑃 or 𝑄)) == ((not 𝑃) and (not 𝑄))}')\n",
    "print (f'𝑁𝑂𝑇 (𝑃 𝐴𝑁𝐷 𝑄) = (𝑁𝑂𝑇 𝑃) 𝑂𝑅 (𝑁𝑂𝑇 𝑄) is {(not (𝑃 and 𝑄)) == ((not 𝑃) or (not 𝑄))}')\n"
   ]
  },
  {
   "cell_type": "markdown",
   "id": "b6355649",
   "metadata": {},
   "source": [
    "### 19. Under what conditions for $P$ and $Q$ is ($P\\ AND\\ Q)\\ OR\\ (P\\ AND\\ (NOT\\ Q)$) false?\n"
   ]
  },
  {
   "cell_type": "code",
   "execution_count": 16,
   "id": "f955632c",
   "metadata": {},
   "outputs": [
    {
     "name": "stdout",
     "output_type": "stream",
     "text": [
      "When P is true and Q is true\n",
      "(𝑃 𝐴𝑁𝐷 𝑄) 𝑂𝑅 (𝑃 𝐴𝑁𝐷 (𝑁𝑂𝑇 𝑄) is 1\n",
      "\n",
      "When P is true and Q is false\n",
      "(𝑃 𝐴𝑁𝐷 𝑄) 𝑂𝑅 (𝑃 𝐴𝑁𝐷 (𝑁𝑂𝑇 𝑄) is True\n",
      "\n",
      "When P is false and Q is true\n",
      "(𝑃 𝐴𝑁𝐷 𝑄) 𝑂𝑅 (𝑃 𝐴𝑁𝐷 (𝑁𝑂𝑇 𝑄) is 0\n",
      "\n",
      "When P is fasle and Q is fasle\n",
      "(𝑃 𝐴𝑁𝐷 𝑄) 𝑂𝑅 (𝑃 𝐴𝑁𝐷 (𝑁𝑂𝑇 𝑄) is 0\n",
      "\n"
     ]
    }
   ],
   "source": [
    "# When P is true and Q is true\n",
    "print(\"When P is true and Q is true\")\n",
    "P = 1\n",
    "Q = 1\n",
    "print (f'(𝑃 𝐴𝑁𝐷 𝑄) 𝑂𝑅 (𝑃 𝐴𝑁𝐷 (𝑁𝑂𝑇 𝑄) is {(𝑃 and 𝑄) or (𝑃 and (not 𝑄))}\\n')\n",
    "\n",
    "# When P is true and Q is false\n",
    "print(\"When P is true and Q is false\")\n",
    "P = 1\n",
    "Q = 0\n",
    "print (f'(𝑃 𝐴𝑁𝐷 𝑄) 𝑂𝑅 (𝑃 𝐴𝑁𝐷 (𝑁𝑂𝑇 𝑄) is {(𝑃 and 𝑄) or (𝑃 and (not 𝑄))}\\n')\n",
    "\n",
    "# When P is fasle and Q is true\n",
    "print(\"When P is false and Q is true\")\n",
    "P = 0\n",
    "Q = 1\n",
    "print (f'(𝑃 𝐴𝑁𝐷 𝑄) 𝑂𝑅 (𝑃 𝐴𝑁𝐷 (𝑁𝑂𝑇 𝑄) is {(𝑃 and 𝑄) or (𝑃 and (not 𝑄))}\\n')\n",
    "\n",
    "# When P is fasle and Q is fasle\n",
    "print(\"When P is fasle and Q is fasle\")\n",
    "P = 0\n",
    "Q = 0\n",
    "print (f'(𝑃 𝐴𝑁𝐷 𝑄) 𝑂𝑅 (𝑃 𝐴𝑁𝐷 (𝑁𝑂𝑇 𝑄) is {(𝑃 and 𝑄) or (𝑃 and (not 𝑄))}\\n')"
   ]
  },
  {
   "cell_type": "markdown",
   "id": "fb0cf37a",
   "metadata": {},
   "source": [
    "### 23. Do the following calculation at the Python command prompt.<br>$e^{2}\\sin{\\pi/6} + log_e(3)\\cos{\\pi/9}-5^3$\n",
    "\n"
   ]
  },
  {
   "cell_type": "code",
   "execution_count": 17,
   "id": "75f3985b",
   "metadata": {},
   "outputs": [
    {
     "name": "stdout",
     "output_type": "stream",
     "text": [
      "result = -120.27311408976854\n"
     ]
    }
   ],
   "source": [
    "import math\n",
    "import numpy as np\n",
    "\n",
    "result = (math.exp(2) * math.sin(np.pi / 6)) + (math.log(3) * math.cos(np.pi / 9)) - (math.pow(5,3))\n",
    "print(f'result = {result}')"
   ]
  },
  {
   "cell_type": "markdown",
   "id": "77f80a4a",
   "metadata": {},
   "source": [
    "\n",
    "### 24. Do the following logical and comparison operations at the Python command prompt. You may assume that P and Q are logical expressions.<br>For P = 1 and Q = 1; Compute $NOT(P)\\ AND\\ NOT(Q)$.<br>For a = 10 and b = 25; Compute $(a<b)\\ AND\\ (a=b)$."
   ]
  },
  {
   "cell_type": "code",
   "execution_count": 18,
   "id": "848183d3",
   "metadata": {},
   "outputs": [
    {
     "name": "stdout",
     "output_type": "stream",
     "text": [
      "When P = 1 and Q = 1\n",
      "𝑁𝑂𝑇(𝑃) 𝐴𝑁𝐷 𝑁𝑂𝑇(𝑄) is False\n",
      "\n",
      "When a = 10 and b = 25\n",
      "(𝑎<𝑏) 𝐴𝑁𝐷 (𝑎=𝑏) is False\n",
      "\n"
     ]
    }
   ],
   "source": [
    "print(\"When P = 1 and Q = 1\")\n",
    "P = 1\n",
    "Q = 1\n",
    "print (f'𝑁𝑂𝑇(𝑃) 𝐴𝑁𝐷 𝑁𝑂𝑇(𝑄) is {not(𝑃) and not(𝑄)}\\n')\n",
    "\n",
    "print(\"When a = 10 and b = 25\")\n",
    "a = 10\n",
    "b = 25\n",
    "print (f'(𝑎<𝑏) 𝐴𝑁𝐷 (𝑎=𝑏) is {(𝑎 < 𝑏) and (𝑎 == 𝑏)}\\n')"
   ]
  },
  {
   "cell_type": "code",
   "execution_count": null,
   "id": "4f73cc28",
   "metadata": {},
   "outputs": [],
   "source": []
  }
 ],
 "metadata": {
  "kernelspec": {
   "display_name": "Python 3",
   "language": "python",
   "name": "python3"
  },
  "language_info": {
   "codemirror_mode": {
    "name": "ipython",
    "version": 3
   },
   "file_extension": ".py",
   "mimetype": "text/x-python",
   "name": "python",
   "nbconvert_exporter": "python",
   "pygments_lexer": "ipython3",
   "version": "3.8.8"
  }
 },
 "nbformat": 4,
 "nbformat_minor": 5
}
