{
 "cells": [
  {
   "cell_type": "markdown",
   "id": "4115e8d5",
   "metadata": {},
   "source": [
    "### 1. Assign the value 2 to the variable x and the value 3 to the variable y. Clear just the variable x. \n"
   ]
  },
  {
   "cell_type": "code",
   "execution_count": 1,
   "id": "3ebf1d6e",
   "metadata": {},
   "outputs": [],
   "source": [
    "x = 2\n",
    "y = 3\n",
    "\n",
    "del x"
   ]
  },
  {
   "cell_type": "markdown",
   "id": "dd68361a",
   "metadata": {},
   "source": [
    "### 2. Write a line of code that generates the following error:\n",
    "```\n",
    "NameError: name 'x' is not defined\n",
    "```"
   ]
  },
  {
   "cell_type": "code",
   "execution_count": 2,
   "id": "3c737b48",
   "metadata": {},
   "outputs": [
    {
     "ename": "NameError",
     "evalue": "name 'x' is not defined",
     "output_type": "error",
     "traceback": [
      "\u001b[0;31m---------------------------------------------------------------------------\u001b[0m",
      "\u001b[0;31mNameError\u001b[0m                                 Traceback (most recent call last)",
      "\u001b[0;32m<ipython-input-2-6fcf9dfbd479>\u001b[0m in \u001b[0;36m<module>\u001b[0;34m\u001b[0m\n\u001b[0;32m----> 1\u001b[0;31m \u001b[0mx\u001b[0m\u001b[0;34m\u001b[0m\u001b[0;34m\u001b[0m\u001b[0m\n\u001b[0m",
      "\u001b[0;31mNameError\u001b[0m: name 'x' is not defined"
     ]
    }
   ],
   "source": [
    "x"
   ]
  },
  {
   "cell_type": "markdown",
   "id": "3a04344b",
   "metadata": {},
   "source": [
    "### 3. Let x = 10 and y = 3. Write a line of code that will make each of the following assignments.\n",
    "\n",
    "```\n",
    "u = x + y\n",
    "v = xy\n",
    "w = x/y\n",
    "z = sin(x)\n",
    "r = 8sin(x) \n",
    "s = 5sin(xy)\n",
    "p = x**y\n",
    "```"
   ]
  },
  {
   "cell_type": "code",
   "execution_count": 3,
   "id": "841b7f60",
   "metadata": {},
   "outputs": [],
   "source": [
    "import math\n",
    "\n",
    "x = 10\n",
    "y = 3\n",
    "\n",
    "u = x + y\n",
    "v = x * y\n",
    "w = x / y\n",
    "z = math.sin(x)\n",
    "r = 8 * math.sin(x) \n",
    "s = 5 * math.sin(x * y)\n",
    "p = x**y\n"
   ]
  },
  {
   "cell_type": "markdown",
   "id": "e0fc01bf",
   "metadata": {},
   "source": [
    "### 4. Show all the variables in the Jupyter notebook after you finish problem 3. \n"
   ]
  },
  {
   "cell_type": "code",
   "execution_count": 5,
   "id": "63143dc6",
   "metadata": {},
   "outputs": [
    {
     "name": "stdout",
     "output_type": "stream",
     "text": [
      "Variable   Type      Data/Info\n",
      "------------------------------\n",
      "math       module    <module 'math' from '/hom<...>-38-x86_64-linux-gnu.so'>\n",
      "p          int       1000\n",
      "r          float     -4.352168887114958\n",
      "s          float     -4.940158120464309\n",
      "u          int       13\n",
      "v          int       30\n",
      "w          float     3.3333333333333335\n",
      "x          int       10\n",
      "y          int       3\n",
      "z          float     -0.5440211108893698\n"
     ]
    }
   ],
   "source": [
    "%whos"
   ]
  },
  {
   "cell_type": "markdown",
   "id": "e4ea153d",
   "metadata": {},
   "source": [
    "### 5. Assign string '123' to the variable S. Convert the string into a float type and assign the output to the variable N. Verify that S is a string and N is a float using the *type* function. \n"
   ]
  },
  {
   "cell_type": "code",
   "execution_count": 6,
   "id": "71fa2f42",
   "metadata": {},
   "outputs": [
    {
     "name": "stdout",
     "output_type": "stream",
     "text": [
      "<class 'str'>\n",
      "<class 'float'>\n"
     ]
    }
   ],
   "source": [
    "S = '123'\n",
    "N = float(S)\n",
    "\n",
    "print(type(S))\n",
    "print(type(N))"
   ]
  },
  {
   "cell_type": "markdown",
   "id": "70f6cca5",
   "metadata": {},
   "source": [
    "### 6. Assign the string 'HELLO' to the variable s1 and the string 'hello' to the variable s2. Use the *==* operator to show that they are not equal. Use the *==* operator to show that s1 and s2 are equal if the *lower* method is used on s1. Use the **==** operator to show that s1 and s2 are equal if *upper* method is used on s2. \n"
   ]
  },
  {
   "cell_type": "code",
   "execution_count": 7,
   "id": "5ab08200",
   "metadata": {},
   "outputs": [
    {
     "name": "stdout",
     "output_type": "stream",
     "text": [
      "False\n",
      "True\n",
      "True\n"
     ]
    }
   ],
   "source": [
    "s1 = 'HELLO'\n",
    "s2 = 'hello'\n",
    "\n",
    "print(s1 == s2)\n",
    "print(s1.lower() == s2)\n",
    "print(s1 == s2.upper())"
   ]
  },
  {
   "cell_type": "markdown",
   "id": "bcc270ab",
   "metadata": {},
   "source": [
    "### 7. Use the *print* function to generate the following strings. \n",
    "    * The world 'Engineering' has 11 letters. \n",
    "    * The word 'Book' has 4 letters.\n",
    "    "
   ]
  },
  {
   "cell_type": "code",
   "execution_count": 8,
   "id": "aa9a2b20",
   "metadata": {},
   "outputs": [
    {
     "name": "stdout",
     "output_type": "stream",
     "text": [
      "* The world 'Engineering' has 11 letters.\n",
      "* The word 'Book' has 4 letters.\n"
     ]
    }
   ],
   "source": [
    "print(\"* The world 'Engineering' has 11 letters.\\n* The word 'Book' has 4 letters.\")"
   ]
  },
  {
   "cell_type": "markdown",
   "id": "c3242616",
   "metadata": {},
   "source": [
    "### 8. Check if 'Python' is in 'Python is great!'. \n"
   ]
  },
  {
   "cell_type": "code",
   "execution_count": 9,
   "id": "3f200910",
   "metadata": {},
   "outputs": [
    {
     "data": {
      "text/plain": [
       "True"
      ]
     },
     "execution_count": 9,
     "metadata": {},
     "output_type": "execute_result"
    }
   ],
   "source": [
    "'Python' in 'Python is great!' \n"
   ]
  },
  {
   "cell_type": "markdown",
   "id": "50b94853",
   "metadata": {},
   "source": [
    "### 9. Get the last word 'great' from 'Python is great!'\n"
   ]
  },
  {
   "cell_type": "code",
   "execution_count": 11,
   "id": "e4272e41",
   "metadata": {},
   "outputs": [
    {
     "name": "stdout",
     "output_type": "stream",
     "text": [
      "great\n"
     ]
    }
   ],
   "source": [
    "string = 'Python is great!'\n",
    "\n",
    "print(string[string.index('g'):-1])"
   ]
  },
  {
   "cell_type": "markdown",
   "id": "5cc83c31",
   "metadata": {},
   "source": [
    "### 10. Assign list [1, 8, 9, 15] to a variable *list_a* and insert 2 at index 1 using the *insert* method. Append 4 to the *list_a* using the *append* method. "
   ]
  },
  {
   "cell_type": "code",
   "execution_count": 12,
   "id": "d1191558",
   "metadata": {},
   "outputs": [
    {
     "data": {
      "text/plain": [
       "[1, 2, 8, 9, 15, 4]"
      ]
     },
     "execution_count": 12,
     "metadata": {},
     "output_type": "execute_result"
    }
   ],
   "source": [
    "list_a = [1, 8, 9, 15]\n",
    "\n",
    "list_a.insert(1,2)\n",
    "list_a.append(4)\n",
    "\n",
    "list_a"
   ]
  },
  {
   "cell_type": "markdown",
   "id": "c3e1ad28",
   "metadata": {},
   "source": [
    "### 11. Sort the *list_a* in problem 10 in ascending order. \n"
   ]
  },
  {
   "cell_type": "code",
   "execution_count": 13,
   "id": "f69dd464",
   "metadata": {},
   "outputs": [
    {
     "data": {
      "text/plain": [
       "[1, 2, 4, 8, 9, 15]"
      ]
     },
     "execution_count": 13,
     "metadata": {},
     "output_type": "execute_result"
    }
   ],
   "source": [
    "list_a.sort()\n",
    "\n",
    "list_a"
   ]
  },
  {
   "cell_type": "markdown",
   "id": "1acec7ed",
   "metadata": {},
   "source": [
    "### 12. Turn 'Python is great!' to a list. \n"
   ]
  },
  {
   "cell_type": "code",
   "execution_count": 14,
   "id": "1fdf826e",
   "metadata": {},
   "outputs": [],
   "source": [
    "list_b = list('Python is great!')"
   ]
  },
  {
   "cell_type": "markdown",
   "id": "69497814",
   "metadata": {},
   "source": [
    "### 13. Create one tuple with element 'One', 1 and assign it to tuple_a\n"
   ]
  },
  {
   "cell_type": "code",
   "execution_count": 15,
   "id": "a3e509e9",
   "metadata": {},
   "outputs": [],
   "source": [
    "tuple_a = ('One', 1)"
   ]
  },
  {
   "cell_type": "markdown",
   "id": "4791ae2b",
   "metadata": {},
   "source": [
    "### 14. Get the 2nd element in the tuple_a in problem 13. \n"
   ]
  },
  {
   "cell_type": "code",
   "execution_count": 19,
   "id": "186c2a15",
   "metadata": {},
   "outputs": [
    {
     "name": "stdout",
     "output_type": "stream",
     "text": [
      "1\n"
     ]
    }
   ],
   "source": [
    "print(tuple_a[1])"
   ]
  },
  {
   "cell_type": "markdown",
   "id": "0e90ffc8",
   "metadata": {},
   "source": [
    "### 15. Get the unique element from (2, 3, 2, 3, 1, 2, 5). \n"
   ]
  },
  {
   "cell_type": "code",
   "execution_count": 20,
   "id": "f5ca84db",
   "metadata": {},
   "outputs": [
    {
     "name": "stdout",
     "output_type": "stream",
     "text": [
      "{1, 2, 3, 5}\n"
     ]
    }
   ],
   "source": [
    "element = (2, 3, 2, 3, 1, 2, 5)\n",
    "\n",
    "unique_element = set(element)\n",
    "\n",
    "print(unique_element)"
   ]
  },
  {
   "cell_type": "markdown",
   "id": "4b61b803",
   "metadata": {},
   "source": [
    "### 16. Assign (2, 3, 2) to set_a, and (1, 2, 3) to set_b. Get the following:\n",
    "    * union of set_a and set_b\n",
    "    * intersection of set_a and set_b\n",
    "    * difference of set_a to set_b using *difference* method"
   ]
  },
  {
   "cell_type": "markdown",
   "id": "c7271751",
   "metadata": {},
   "source": [
    "set_a = {2, 3, 2}\n",
    "set_b = {1, 2, 3}\n",
    "\n",
    "print(f'union of set_a and set_b is {set_a.union(set_b)}')\n",
    "print(f'intersection of set_a and set_b is {set_b.intersection(set_b)}')\n",
    "print(f'difference of set_a to set_b using *difference* method is {set_b.difference(set_a)}')"
   ]
  },
  {
   "cell_type": "markdown",
   "id": "c3a2b9bd",
   "metadata": {},
   "source": [
    "### 17. Create a dictionary that has the keys 'A', 'B', 'C' with values 'a', 'b', 'c' individually. Print all the keys in the dictionary. "
   ]
  },
  {
   "cell_type": "code",
   "execution_count": 23,
   "id": "f8776676",
   "metadata": {},
   "outputs": [
    {
     "name": "stdout",
     "output_type": "stream",
     "text": [
      "The dictionary keys is dict_keys(['A', 'B', 'C'])\n"
     ]
    }
   ],
   "source": [
    "dic = {'A': 'a', 'B': 'b', 'C': 'c'}\n",
    "\n",
    "print(f'The dictionary keys is {dic.keys()}')"
   ]
  },
  {
   "cell_type": "markdown",
   "id": "538c24d7",
   "metadata": {},
   "source": [
    "### 18. Check if key 'B' is in the dictionary defined in problem 17. \n"
   ]
  },
  {
   "cell_type": "code",
   "execution_count": 24,
   "id": "830a8d4f",
   "metadata": {},
   "outputs": [
    {
     "name": "stdout",
     "output_type": "stream",
     "text": [
      "True\n"
     ]
    }
   ],
   "source": [
    "print('B' in dic.keys())"
   ]
  },
  {
   "cell_type": "markdown",
   "id": "f0c5f246",
   "metadata": {},
   "source": [
    "### 19. Create array x and y, where  x = [1, 4, 3, 2, 9, 4] and y=[2, 3, 4, 1, 2, 3]. Compute the assignments from Problem 3."
   ]
  },
  {
   "cell_type": "code",
   "execution_count": 27,
   "id": "26573655",
   "metadata": {},
   "outputs": [
    {
     "name": "stdout",
     "output_type": "stream",
     "text": [
      "x + y is [ 3  7  7  3 11  7]\n",
      "x * y is [ 2 12 12  2 18 12]\n",
      "x / y is [0.5        1.33333333 0.75       2.         4.5        1.33333333]\n",
      "sin(x) is [ 0.84147098 -0.7568025   0.14112001  0.90929743  0.41211849 -0.7568025 ]\n",
      "8sin(x) is [ 6.73176788 -6.05441996  1.12896006  7.27437941  3.29694788 -6.05441996]\n",
      "5sin(x * y) is [ 4.54648713 -2.68286459 -2.68286459  4.54648713 -3.75493623 -2.68286459]\n",
      "x**y is [ 1 64 81  2 81 64]\n"
     ]
    }
   ],
   "source": [
    "import math\n",
    "import numpy as np\n",
    "\n",
    "x = np.array([1, 4, 3, 2, 9, 4])\n",
    "y = np.array([2, 3, 4, 1, 2, 3])\n",
    "\n",
    "print(f'x + y is {x + y}')\n",
    "print(f'x * y is {x * y}')\n",
    "print(f'x / y is {x / y}')\n",
    "print(f'sin(x) is {np.sin(x)}')\n",
    "print(f'8sin(x) is {8 * np.sin(x)}')\n",
    "print(f'5sin(x * y) is {5 * np.sin(x * y)}')\n",
    "print(f'x**y is {x**y}')"
   ]
  },
  {
   "cell_type": "markdown",
   "id": "2256d7ba",
   "metadata": {},
   "source": [
    "### 20. Generate an array with size 100 evenly spaced between -10 to 10 using *linspace* function in Numpy.\n"
   ]
  },
  {
   "cell_type": "code",
   "execution_count": 28,
   "id": "7e2b065e",
   "metadata": {},
   "outputs": [
    {
     "data": {
      "text/plain": [
       "array([-10.        ,  -9.7979798 ,  -9.5959596 ,  -9.39393939,\n",
       "        -9.19191919,  -8.98989899,  -8.78787879,  -8.58585859,\n",
       "        -8.38383838,  -8.18181818,  -7.97979798,  -7.77777778,\n",
       "        -7.57575758,  -7.37373737,  -7.17171717,  -6.96969697,\n",
       "        -6.76767677,  -6.56565657,  -6.36363636,  -6.16161616,\n",
       "        -5.95959596,  -5.75757576,  -5.55555556,  -5.35353535,\n",
       "        -5.15151515,  -4.94949495,  -4.74747475,  -4.54545455,\n",
       "        -4.34343434,  -4.14141414,  -3.93939394,  -3.73737374,\n",
       "        -3.53535354,  -3.33333333,  -3.13131313,  -2.92929293,\n",
       "        -2.72727273,  -2.52525253,  -2.32323232,  -2.12121212,\n",
       "        -1.91919192,  -1.71717172,  -1.51515152,  -1.31313131,\n",
       "        -1.11111111,  -0.90909091,  -0.70707071,  -0.50505051,\n",
       "        -0.3030303 ,  -0.1010101 ,   0.1010101 ,   0.3030303 ,\n",
       "         0.50505051,   0.70707071,   0.90909091,   1.11111111,\n",
       "         1.31313131,   1.51515152,   1.71717172,   1.91919192,\n",
       "         2.12121212,   2.32323232,   2.52525253,   2.72727273,\n",
       "         2.92929293,   3.13131313,   3.33333333,   3.53535354,\n",
       "         3.73737374,   3.93939394,   4.14141414,   4.34343434,\n",
       "         4.54545455,   4.74747475,   4.94949495,   5.15151515,\n",
       "         5.35353535,   5.55555556,   5.75757576,   5.95959596,\n",
       "         6.16161616,   6.36363636,   6.56565657,   6.76767677,\n",
       "         6.96969697,   7.17171717,   7.37373737,   7.57575758,\n",
       "         7.77777778,   7.97979798,   8.18181818,   8.38383838,\n",
       "         8.58585859,   8.78787879,   8.98989899,   9.19191919,\n",
       "         9.39393939,   9.5959596 ,   9.7979798 ,  10.        ])"
      ]
     },
     "execution_count": 28,
     "metadata": {},
     "output_type": "execute_result"
    }
   ],
   "source": [
    "import numpy as np\n",
    "\n",
    "np.linspace(-10, 10, 100)"
   ]
  },
  {
   "cell_type": "markdown",
   "id": "4ba4bc6d",
   "metadata": {},
   "source": [
    "### 21. Let array_a be an array [-1, 0, 1, 2, 0, 3]. Write a command that will return an array consisting of all the elements of array_a that are larger than zero. Hint: Use logical expression as the index of the array.\n"
   ]
  },
  {
   "cell_type": "code",
   "execution_count": 29,
   "id": "9a26fc9f",
   "metadata": {},
   "outputs": [
    {
     "data": {
      "text/plain": [
       "array([1, 2, 3])"
      ]
     },
     "execution_count": 29,
     "metadata": {},
     "output_type": "execute_result"
    }
   ],
   "source": [
    "array_a = np.array([-1, 0, 1, 2, 0, 3])\n",
    "\n",
    "array_a[array_a > 0]"
   ]
  },
  {
   "cell_type": "markdown",
   "id": "aead8a77",
   "metadata": {},
   "source": [
    "### 22. Create an array $y = \\begin{pmatrix} \n",
    "3 & 5 & 3 \\\\\n",
    "2 & 2 & 5 \\\\\n",
    "3 & 8 & 9 \\\\\n",
    "\\end{pmatrix}$ and calculate the transpose of the array. \n"
   ]
  },
  {
   "cell_type": "code",
   "execution_count": 32,
   "id": "6ec43ffd",
   "metadata": {},
   "outputs": [
    {
     "data": {
      "text/plain": [
       "array([[3, 2, 3],\n",
       "       [5, 2, 8],\n",
       "       [3, 5, 9]])"
      ]
     },
     "execution_count": 32,
     "metadata": {},
     "output_type": "execute_result"
    }
   ],
   "source": [
    "y = np.array([[3, 5, 3], [2, 2, 5], [3, 8, 9]])\n",
    "\n",
    "y.T"
   ]
  },
  {
   "cell_type": "markdown",
   "id": "40f5ddf7",
   "metadata": {},
   "source": [
    "### 23. Create a zero array with size (2, 4). \n"
   ]
  },
  {
   "cell_type": "code",
   "execution_count": 35,
   "id": "7214d9b1",
   "metadata": {},
   "outputs": [
    {
     "data": {
      "text/plain": [
       "array([[0., 0., 0., 0.],\n",
       "       [0., 0., 0., 0.]])"
      ]
     },
     "execution_count": 35,
     "metadata": {},
     "output_type": "execute_result"
    }
   ],
   "source": [
    "arr = np.zeros((2, 4))\n",
    "arr"
   ]
  },
  {
   "cell_type": "markdown",
   "id": "8b52bcac",
   "metadata": {},
   "source": [
    "### 24. Change the 2nd column in the above array to 1.  \n"
   ]
  },
  {
   "cell_type": "code",
   "execution_count": 38,
   "id": "0f961288",
   "metadata": {},
   "outputs": [
    {
     "data": {
      "text/plain": [
       "array([[0., 0., 0., 0.],\n",
       "       [1., 1., 1., 1.]])"
      ]
     },
     "execution_count": 38,
     "metadata": {},
     "output_type": "execute_result"
    }
   ],
   "source": [
    "arr[1, ] = [1, 1, 1, 1]\n",
    "arr"
   ]
  },
  {
   "cell_type": "markdown",
   "id": "608728cc",
   "metadata": {},
   "source": [
    "### 25. Write a cell magic to clear all the variables in the Jupyter notebook"
   ]
  },
  {
   "cell_type": "code",
   "execution_count": 41,
   "id": "fd95afd9",
   "metadata": {},
   "outputs": [
    {
     "name": "stdout",
     "output_type": "stream",
     "text": [
      "Once deleted, variables cannot be recovered. Proceed (y/[n])? y\n"
     ]
    }
   ],
   "source": [
    "%reset"
   ]
  }
 ],
 "metadata": {
  "kernelspec": {
   "display_name": "Python 3",
   "language": "python",
   "name": "python3"
  },
  "language_info": {
   "codemirror_mode": {
    "name": "ipython",
    "version": 3
   },
   "file_extension": ".py",
   "mimetype": "text/x-python",
   "name": "python",
   "nbconvert_exporter": "python",
   "pygments_lexer": "ipython3",
   "version": "3.8.8"
  }
 },
 "nbformat": 4,
 "nbformat_minor": 5
}
